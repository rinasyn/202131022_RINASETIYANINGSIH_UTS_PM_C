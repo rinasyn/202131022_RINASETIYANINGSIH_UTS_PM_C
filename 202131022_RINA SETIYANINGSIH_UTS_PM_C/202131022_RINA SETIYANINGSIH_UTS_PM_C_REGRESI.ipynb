{
 "cells": [
  {
   "cell_type": "markdown",
   "id": "b0f0cc93",
   "metadata": {},
   "source": [
    "# Pengumpulan data"
   ]
  },
  {
   "cell_type": "code",
   "execution_count": 3,
   "id": "e873c42a",
   "metadata": {},
   "outputs": [
    {
     "data": {
      "text/html": [
       "<div>\n",
       "<style scoped>\n",
       "    .dataframe tbody tr th:only-of-type {\n",
       "        vertical-align: middle;\n",
       "    }\n",
       "\n",
       "    .dataframe tbody tr th {\n",
       "        vertical-align: top;\n",
       "    }\n",
       "\n",
       "    .dataframe thead th {\n",
       "        text-align: right;\n",
       "    }\n",
       "</style>\n",
       "<table border=\"1\" class=\"dataframe\">\n",
       "  <thead>\n",
       "    <tr style=\"text-align: right;\">\n",
       "      <th></th>\n",
       "      <th>Production (X)</th>\n",
       "      <th>Harvest Area (Y)</th>\n",
       "    </tr>\n",
       "  </thead>\n",
       "  <tbody>\n",
       "    <tr>\n",
       "      <th>0</th>\n",
       "      <td>1329536.00</td>\n",
       "      <td>323589.00</td>\n",
       "    </tr>\n",
       "    <tr>\n",
       "      <th>1</th>\n",
       "      <td>1299699.00</td>\n",
       "      <td>329041.00</td>\n",
       "    </tr>\n",
       "    <tr>\n",
       "      <th>2</th>\n",
       "      <td>1382905.00</td>\n",
       "      <td>339253.00</td>\n",
       "    </tr>\n",
       "    <tr>\n",
       "      <th>3</th>\n",
       "      <td>1419128.00</td>\n",
       "      <td>348223.00</td>\n",
       "    </tr>\n",
       "    <tr>\n",
       "      <th>4</th>\n",
       "      <td>1368074.00</td>\n",
       "      <td>337561.00</td>\n",
       "    </tr>\n",
       "    <tr>\n",
       "      <th>...</th>\n",
       "      <td>...</td>\n",
       "      <td>...</td>\n",
       "    </tr>\n",
       "    <tr>\n",
       "      <th>219</th>\n",
       "      <td>3831923.00</td>\n",
       "      <td>390799.00</td>\n",
       "    </tr>\n",
       "    <tr>\n",
       "      <th>220</th>\n",
       "      <td>4090654.00</td>\n",
       "      <td>396559.00</td>\n",
       "    </tr>\n",
       "    <tr>\n",
       "      <th>221</th>\n",
       "      <td>2488641.91</td>\n",
       "      <td>511940.93</td>\n",
       "    </tr>\n",
       "    <tr>\n",
       "      <th>222</th>\n",
       "      <td>2164089.33</td>\n",
       "      <td>464103.42</td>\n",
       "    </tr>\n",
       "    <tr>\n",
       "      <th>223</th>\n",
       "      <td>2604913.29</td>\n",
       "      <td>545149.05</td>\n",
       "    </tr>\n",
       "  </tbody>\n",
       "</table>\n",
       "<p>224 rows × 2 columns</p>\n",
       "</div>"
      ],
      "text/plain": [
       "     Production (X)  Harvest Area (Y)\n",
       "0        1329536.00         323589.00\n",
       "1        1299699.00         329041.00\n",
       "2        1382905.00         339253.00\n",
       "3        1419128.00         348223.00\n",
       "4        1368074.00         337561.00\n",
       "..              ...               ...\n",
       "219      3831923.00         390799.00\n",
       "220      4090654.00         396559.00\n",
       "221      2488641.91         511940.93\n",
       "222      2164089.33         464103.42\n",
       "223      2604913.29         545149.05\n",
       "\n",
       "[224 rows x 2 columns]"
      ]
     },
     "execution_count": 3,
     "metadata": {},
     "output_type": "execute_result"
    }
   ],
   "source": [
    "import pandas as pd #adalah pernyataan di Python yang mengimpor pustaka atau modul \n",
    "#bernama \"pandas\" dan memberikannya alias \"pd\"\n",
    "\n",
    "data = pd.read_csv('R02_rice_field.csv')\n",
    "#membaca data dari file CSV ('R02_rice_field.csv') ke dalam variabel data \n",
    "#menggunakan fungsi pd.read_csv dari pustaka pandas. \n",
    "data #Menampilkan datanya "
   ]
  },
  {
   "cell_type": "markdown",
   "id": "c4b5a41b",
   "metadata": {},
   "source": [
    "# Preprocessing data"
   ]
  },
  {
   "cell_type": "code",
   "execution_count": 4,
   "id": "63392976",
   "metadata": {},
   "outputs": [],
   "source": [
    "#Import pustaka train_test_split dari scikit-learn untuk membagi datase\n",
    "from sklearn.model_selection import train_test_split\n",
    "\n",
    "X = data['Production (X)'].values.reshape(-1,1)# Variabel \"Production (X)\" diambil dari kolom 'Production (X)' \n",
    "#dalam dataset dan diubah menjadi bentuk array satu dimensi (-1,1).\n",
    "Y = data['Harvest Area (Y)'].values# Variabel \"Harvest Area (Y)\" diambil dari kolom 'Harvest Area (Y)' dalam dataset.\n",
    "\n",
    "x_train, x_test, y_train, y_test = train_test_split(X, Y, test_size = .2)\n",
    "# Menggunakan train_test_split untuk membagi dataset menjadi data pelatihan dan data pengujian.\n",
    "# test_size=0.2 menunjukkan bahwa 20% dari data akan digunakan sebagai data pengujian."
   ]
  },
  {
   "cell_type": "markdown",
   "id": "1265c222",
   "metadata": {},
   "source": [
    "# Pembentukan Model"
   ]
  },
  {
   "cell_type": "code",
   "execution_count": 6,
   "id": "4cd99014",
   "metadata": {},
   "outputs": [
    {
     "data": {
      "text/plain": [
       "LinearRegression()"
      ]
     },
     "execution_count": 6,
     "metadata": {},
     "output_type": "execute_result"
    }
   ],
   "source": [
    "#Ini mengimpor kelas LinearRegression dari modul linear_model dalam pustaka scikit-learn.\n",
    "#Kelas ini menyediakan fungsionalitas untuk membuat model regresi linear\n",
    "from sklearn.linear_model import LinearRegression\n",
    "\n",
    "model = LinearRegression() #Ini membuat objek model regresi linear dari kelas LinearRegression\n",
    "model.fit(x_train, y_train)#x_train yang berisi fitur-fitur (variabel independen) dari data pelatihan \n",
    "#dan y_train yang berisi nilai target (variabel dependen) yang sesuai.\n"
   ]
  },
  {
   "cell_type": "markdown",
   "id": "a630cc7d",
   "metadata": {},
   "source": [
    "# Analisis Akurasi model"
   ]
  },
  {
   "cell_type": "code",
   "execution_count": 7,
   "id": "6c930ffd",
   "metadata": {},
   "outputs": [
    {
     "name": "stdout",
     "output_type": "stream",
     "text": [
      "Akurasi Regresi: 0.8555952411606265\n"
     ]
    }
   ],
   "source": [
    "print(f'Akurasi Regresi: {model.score(x_train, y_train)}')\n",
    "#digunakan untuk mencetak atau menampilkan nilai akurasi \n",
    "#dari model regresi linear pada data pelatihan."
   ]
  },
  {
   "cell_type": "markdown",
   "id": "bb42e154",
   "metadata": {},
   "source": [
    "# Pengujian Model"
   ]
  },
  {
   "cell_type": "code",
   "execution_count": 8,
   "id": "ec9f6b43",
   "metadata": {},
   "outputs": [
    {
     "data": {
      "text/plain": [
       "array([501668.99729763, 141051.46715753, 340916.8044818 , 171681.49519888,\n",
       "       458058.15445877, 529180.57000701, 431457.47944202, 309288.06704725,\n",
       "       328951.79569131, 306578.01208917, 644118.29835009, 133445.10386374,\n",
       "       168191.732738  , 401507.6815647 , 490152.66877294, 384274.98424714,\n",
       "       424940.30870501, 703566.21827838, 721451.71923945, 401732.11443072,\n",
       "       535005.14616501, 650732.32367119, 174221.63312067, 468512.5689489 ,\n",
       "       391311.33676955, 151230.37812755, 937927.2411811 , 179774.00480929,\n",
       "       405773.03005672, 624023.65860328, 140534.40980344, 148179.92707803,\n",
       "       884958.5369826 , 316141.51240405, 353858.59830964, 149036.06914622,\n",
       "       653831.85770142, 134852.53772838, 412227.06734145, 159039.2555517 ,\n",
       "       158666.07502657, 709682.48222635, 168887.69943019, 429705.29196636,\n",
       "       136889.15545709])"
      ]
     },
     "execution_count": 8,
     "metadata": {},
     "output_type": "execute_result"
    }
   ],
   "source": [
    " #digunakan untuk membuat prediksi menggunakan model regresi linear pada data uji\n",
    "predik = model.predict(x_test)#ni akan menghasilkan nilai prediksi yang sesuai dengan variabel target (y) \n",
    "#berdasarkan model regresi linear yang telah dilatih sebelumnya.\n",
    "predik"
   ]
  },
  {
   "cell_type": "code",
   "execution_count": 10,
   "id": "fb687f4c",
   "metadata": {},
   "outputs": [
    {
     "name": "stdout",
     "output_type": "stream",
     "text": [
      "MAE model: 69347.41796559904\n",
      "MSE model: 16702197896.974031\n",
      "RMSE model: 129236.98347212392\n",
      "Akurasi model: 85.55952411606265%\n"
     ]
    }
   ],
   "source": [
    "import numpy as np\n",
    "from sklearn.metrics import mean_absolute_error, mean_squared_error\n",
    "\n",
    "mae = mean_absolute_error(predik, y_test)\n",
    "#MAE mengukur rata-rata dari nilai absolut dari selisih antara prediksi dan nilai sebenarnya. \n",
    "#Semakin rendah nilai MAE, semakin baik performa model.\n",
    "mse = mean_squared_error(predik, y_test)\n",
    "#MSE mengukur rata-rata dari kuadrat dari selisih antara prediksi dan nilai sebenarnya. \n",
    "#Nilai MSE yang lebih kecil menunjukkan model yang lebih baik.\n",
    "rmse = np.sqrt(mse)#semakin rendah nilai RMSE, semakin baik performa model.\n",
    "\n",
    "print(f'MAE model: {mae}')\n",
    "print(f'MSE model: {mse}')\n",
    "print(f'RMSE model: {rmse}')\n",
    "print(f'Akurasi model: {model.score(x_train, y_train)*100}%')\n",
    "#metode ini mengukur sejauh mana model dapat memprediksi data pelatihan, \n",
    "#dan bukan data uji yang mungkin belum pernah dilihat sebelumnya\n",
    "#koefisien determinasi (R-squared) yang dapat bernilai antara 0 dan 1. \n",
    "#Semakin tinggi nilainya, semakin baik performa model."
   ]
  },
  {
   "cell_type": "markdown",
   "id": "802ded4d",
   "metadata": {},
   "source": [
    "# Visualisasi model"
   ]
  },
  {
   "cell_type": "code",
   "execution_count": 12,
   "id": "7cdd854d",
   "metadata": {},
   "outputs": [
    {
     "data": {
      "image/png": "[encoded data removed]",
      "text/plain": [
       "<Figure size 640x480 with 1 Axes>"
      ]
     },
     "metadata": {},
     "output_type": "display_data"
    }
   ],
   "source": [
    "# Visualisasi Data\n",
    "import matplotlib.pyplot as plt\n",
    "\n",
    "plt.scatter(x_test, y_test, c='blue')\n",
    "# Ini membuat scatter plot dari data uji. x_test adalah sumbu x, y_test adalah sumbu y, \n",
    "#dan warna titik-titik pada plot diatur menjadi biru \n",
    "plt.plot(x_test, predik, c='red')\n",
    "#Ini membuat garis plot merah yang mewakili prediksi model regresi linear. x_test adalah sumbu x, \n",
    "#dan predik adalah prediksi model pada data uji. Warna garis diatur menjadi mera\n",
    "plt.xlabel('Data X')#Ini memberi label sumbu x pada plot dengan teks 'Data X'.\n",
    "plt.ylabel('Data Y')# Ini memberi label sumbu y pada plot dengan teks 'Data Y'.\n",
    "plt.show()# Ini menampilkan plot."
   ]
  },
  {
   "cell_type": "code",
   "execution_count": null,
   "id": "285dae9b",
   "metadata": {},
   "outputs": [],
   "source": []
  }
 ],
 "metadata": {
  "kernelspec": {
   "display_name": "Python 3 (ipykernel)",
   "language": "python",
   "name": "python3"
  },
  "language_info": {
   "codemirror_mode": {
    "name": "ipython",
    "version": 3
   },
   "file_extension": ".py",
   "mimetype": "text/x-python",
   "name": "python",
   "nbconvert_exporter": "python",
   "pygments_lexer": "ipython3",
   "version": "3.9.13"
  }
 },
 "nbformat": 4,
 "nbformat_minor": 5
}
