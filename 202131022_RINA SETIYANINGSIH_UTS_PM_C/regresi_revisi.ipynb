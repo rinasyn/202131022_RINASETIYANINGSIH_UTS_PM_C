{
 "cells": [
  {
   "cell_type": "markdown",
   "id": "c9157e3b",
   "metadata": {},
   "source": [
    "# Pengumpulan Data"
   ]
  },
  {
   "cell_type": "code",
   "execution_count": 1,
   "id": "1b2e0f00",
   "metadata": {},
   "outputs": [],
   "source": [
    "import pandas as pd #adalah pernyataan di Python yang mengimpor pustaka atau modul \n",
    "#bernama \"pandas\" dan memberikannya alias \"pd\"\n"
   ]
  },
  {
   "cell_type": "code",
   "execution_count": 2,
   "id": "7c0f6678",
   "metadata": {},
   "outputs": [
    {
     "data": {
      "text/html": [
       "<div>\n",
       "<style scoped>\n",
       "    .dataframe tbody tr th:only-of-type {\n",
       "        vertical-align: middle;\n",
       "    }\n",
       "\n",
       "    .dataframe tbody tr th {\n",
       "        vertical-align: top;\n",
       "    }\n",
       "\n",
       "    .dataframe thead th {\n",
       "        text-align: right;\n",
       "    }\n",
       "</style>\n",
       "<table border=\"1\" class=\"dataframe\">\n",
       "  <thead>\n",
       "    <tr style=\"text-align: right;\">\n",
       "      <th></th>\n",
       "      <th>Production (X)</th>\n",
       "      <th>Harvest Area (Y)</th>\n",
       "    </tr>\n",
       "  </thead>\n",
       "  <tbody>\n",
       "    <tr>\n",
       "      <th>0</th>\n",
       "      <td>1329536.00</td>\n",
       "      <td>323589.00</td>\n",
       "    </tr>\n",
       "    <tr>\n",
       "      <th>1</th>\n",
       "      <td>1299699.00</td>\n",
       "      <td>329041.00</td>\n",
       "    </tr>\n",
       "    <tr>\n",
       "      <th>2</th>\n",
       "      <td>1382905.00</td>\n",
       "      <td>339253.00</td>\n",
       "    </tr>\n",
       "    <tr>\n",
       "      <th>3</th>\n",
       "      <td>1419128.00</td>\n",
       "      <td>348223.00</td>\n",
       "    </tr>\n",
       "    <tr>\n",
       "      <th>4</th>\n",
       "      <td>1368074.00</td>\n",
       "      <td>337561.00</td>\n",
       "    </tr>\n",
       "    <tr>\n",
       "      <th>...</th>\n",
       "      <td>...</td>\n",
       "      <td>...</td>\n",
       "    </tr>\n",
       "    <tr>\n",
       "      <th>219</th>\n",
       "      <td>3831923.00</td>\n",
       "      <td>390799.00</td>\n",
       "    </tr>\n",
       "    <tr>\n",
       "      <th>220</th>\n",
       "      <td>4090654.00</td>\n",
       "      <td>396559.00</td>\n",
       "    </tr>\n",
       "    <tr>\n",
       "      <th>221</th>\n",
       "      <td>2488641.91</td>\n",
       "      <td>511940.93</td>\n",
       "    </tr>\n",
       "    <tr>\n",
       "      <th>222</th>\n",
       "      <td>2164089.33</td>\n",
       "      <td>464103.42</td>\n",
       "    </tr>\n",
       "    <tr>\n",
       "      <th>223</th>\n",
       "      <td>2604913.29</td>\n",
       "      <td>545149.05</td>\n",
       "    </tr>\n",
       "  </tbody>\n",
       "</table>\n",
       "<p>224 rows × 2 columns</p>\n",
       "</div>"
      ],
      "text/plain": [
       "     Production (X)  Harvest Area (Y)\n",
       "0        1329536.00         323589.00\n",
       "1        1299699.00         329041.00\n",
       "2        1382905.00         339253.00\n",
       "3        1419128.00         348223.00\n",
       "4        1368074.00         337561.00\n",
       "..              ...               ...\n",
       "219      3831923.00         390799.00\n",
       "220      4090654.00         396559.00\n",
       "221      2488641.91         511940.93\n",
       "222      2164089.33         464103.42\n",
       "223      2604913.29         545149.05\n",
       "\n",
       "[224 rows x 2 columns]"
      ]
     },
     "execution_count": 2,
     "metadata": {},
     "output_type": "execute_result"
    }
   ],
   "source": [
    "data1 = pd.read_csv('R02_rice_field.csv')#membaca data dari file CSV ('R02_rice_field.csv') ke dalam variabel data \n",
    "#menggunakan fungsi pd.read_csv dari pustaka pandas. \n",
    "data1 # menampilkan"
   ]
  },
  {
   "cell_type": "code",
   "execution_count": 3,
   "id": "cd2708d0",
   "metadata": {},
   "outputs": [
    {
     "data": {
      "text/html": [
       "<div>\n",
       "<style scoped>\n",
       "    .dataframe tbody tr th:only-of-type {\n",
       "        vertical-align: middle;\n",
       "    }\n",
       "\n",
       "    .dataframe tbody tr th {\n",
       "        vertical-align: top;\n",
       "    }\n",
       "\n",
       "    .dataframe thead th {\n",
       "        text-align: right;\n",
       "    }\n",
       "</style>\n",
       "<table border=\"1\" class=\"dataframe\">\n",
       "  <thead>\n",
       "    <tr style=\"text-align: right;\">\n",
       "      <th></th>\n",
       "      <th>Production (X)</th>\n",
       "      <th>Harvest Area (Y)</th>\n",
       "    </tr>\n",
       "  </thead>\n",
       "  <tbody>\n",
       "    <tr>\n",
       "      <th>0</th>\n",
       "      <td>1329536.0</td>\n",
       "      <td>323589.0</td>\n",
       "    </tr>\n",
       "    <tr>\n",
       "      <th>1</th>\n",
       "      <td>1299699.0</td>\n",
       "      <td>329041.0</td>\n",
       "    </tr>\n",
       "    <tr>\n",
       "      <th>2</th>\n",
       "      <td>1382905.0</td>\n",
       "      <td>339253.0</td>\n",
       "    </tr>\n",
       "    <tr>\n",
       "      <th>3</th>\n",
       "      <td>1419128.0</td>\n",
       "      <td>348223.0</td>\n",
       "    </tr>\n",
       "    <tr>\n",
       "      <th>4</th>\n",
       "      <td>1368074.0</td>\n",
       "      <td>337561.0</td>\n",
       "    </tr>\n",
       "  </tbody>\n",
       "</table>\n",
       "</div>"
      ],
      "text/plain": [
       "   Production (X)  Harvest Area (Y)\n",
       "0       1329536.0          323589.0\n",
       "1       1299699.0          329041.0\n",
       "2       1382905.0          339253.0\n",
       "3       1419128.0          348223.0\n",
       "4       1368074.0          337561.0"
      ]
     },
     "execution_count": 3,
     "metadata": {},
     "output_type": "execute_result"
    }
   ],
   "source": [
    "data1.head() #menampilkan 5 baris pertama"
   ]
  },
  {
   "cell_type": "code",
   "execution_count": 16,
   "id": "5443f3c9",
   "metadata": {},
   "outputs": [
    {
     "data": {
      "text/html": [
       "<div>\n",
       "<style scoped>\n",
       "    .dataframe tbody tr th:only-of-type {\n",
       "        vertical-align: middle;\n",
       "    }\n",
       "\n",
       "    .dataframe tbody tr th {\n",
       "        vertical-align: top;\n",
       "    }\n",
       "\n",
       "    .dataframe thead th {\n",
       "        text-align: right;\n",
       "    }\n",
       "</style>\n",
       "<table border=\"1\" class=\"dataframe\">\n",
       "  <thead>\n",
       "    <tr style=\"text-align: right;\">\n",
       "      <th></th>\n",
       "      <th>Production (X)</th>\n",
       "      <th>Harvest Area (Y)</th>\n",
       "    </tr>\n",
       "  </thead>\n",
       "  <tbody>\n",
       "    <tr>\n",
       "      <th>219</th>\n",
       "      <td>3831923.00</td>\n",
       "      <td>390799.00</td>\n",
       "    </tr>\n",
       "    <tr>\n",
       "      <th>220</th>\n",
       "      <td>4090654.00</td>\n",
       "      <td>396559.00</td>\n",
       "    </tr>\n",
       "    <tr>\n",
       "      <th>221</th>\n",
       "      <td>2488641.91</td>\n",
       "      <td>511940.93</td>\n",
       "    </tr>\n",
       "    <tr>\n",
       "      <th>222</th>\n",
       "      <td>2164089.33</td>\n",
       "      <td>464103.42</td>\n",
       "    </tr>\n",
       "    <tr>\n",
       "      <th>223</th>\n",
       "      <td>2604913.29</td>\n",
       "      <td>545149.05</td>\n",
       "    </tr>\n",
       "  </tbody>\n",
       "</table>\n",
       "</div>"
      ],
      "text/plain": [
       "     Production (X)  Harvest Area (Y)\n",
       "219      3831923.00         390799.00\n",
       "220      4090654.00         396559.00\n",
       "221      2488641.91         511940.93\n",
       "222      2164089.33         464103.42\n",
       "223      2604913.29         545149.05"
      ]
     },
     "execution_count": 16,
     "metadata": {},
     "output_type": "execute_result"
    }
   ],
   "source": [
    "data1.tail() #menampilkan 5 baris terakhir"
   ]
  },
  {
   "cell_type": "markdown",
   "id": "b40f4bb8",
   "metadata": {},
   "source": [
    "# Korelasi"
   ]
  },
  {
   "cell_type": "code",
   "execution_count": 5,
   "id": "caacbf53",
   "metadata": {},
   "outputs": [
    {
     "data": {
      "text/html": [
       "<div>\n",
       "<style scoped>\n",
       "    .dataframe tbody tr th:only-of-type {\n",
       "        vertical-align: middle;\n",
       "    }\n",
       "\n",
       "    .dataframe tbody tr th {\n",
       "        vertical-align: top;\n",
       "    }\n",
       "\n",
       "    .dataframe thead th {\n",
       "        text-align: right;\n",
       "    }\n",
       "</style>\n",
       "<table border=\"1\" class=\"dataframe\">\n",
       "  <thead>\n",
       "    <tr style=\"text-align: right;\">\n",
       "      <th></th>\n",
       "      <th>Production (X)</th>\n",
       "      <th>Harvest Area (Y)</th>\n",
       "    </tr>\n",
       "  </thead>\n",
       "  <tbody>\n",
       "    <tr>\n",
       "      <th>Production (X)</th>\n",
       "      <td>1.000000</td>\n",
       "      <td>0.905622</td>\n",
       "    </tr>\n",
       "    <tr>\n",
       "      <th>Harvest Area (Y)</th>\n",
       "      <td>0.905622</td>\n",
       "      <td>1.000000</td>\n",
       "    </tr>\n",
       "  </tbody>\n",
       "</table>\n",
       "</div>"
      ],
      "text/plain": [
       "                  Production (X)  Harvest Area (Y)\n",
       "Production (X)          1.000000          0.905622\n",
       "Harvest Area (Y)        0.905622          1.000000"
      ]
     },
     "execution_count": 5,
     "metadata": {},
     "output_type": "execute_result"
    }
   ],
   "source": [
    "data1.corr() #digunakan dalam bahasa pemrograman Python dengan menggunakan library pandas untuk menghitung korelasi antar\n",
    "#kolom-kolom dalam suatu DataFrame"
   ]
  },
  {
   "cell_type": "markdown",
   "id": "465a166a",
   "metadata": {},
   "source": [
    "# Preprocessing Data"
   ]
  },
  {
   "cell_type": "code",
   "execution_count": 8,
   "id": "5820ea9d",
   "metadata": {},
   "outputs": [],
   "source": [
    "#Import pustaka train_test_split dari scikit-learn untuk membagi dataset\n",
    "from sklearn.model_selection import train_test_split\n",
    "\n",
    "X = data1['Production (X)'].values.reshape(-1,1)# Variabel \"Production (X)\" diambil dari kolom 'Production (X)' \n",
    "#dalam dataset dan diubah menjadi bentuk array satu dimensi (-1,1).\n",
    "Y = data1['Harvest Area (Y)'].values# Variabel \"Harvest Area (Y)\" diambil dari kolom 'Harvest Area (Y)' dalam dataset.\n",
    "\n",
    "x_train, x_test, y_train, y_test = train_test_split(X, Y, test_size=.2)\n",
    "# Menggunakan train_test_split untuk membagi dataset menjadi data pelatihan dan data pengujian.\n",
    "# test_size=0.2 menunjukkan bahwa 20% dari data akan digunakan sebagai data pengujian."
   ]
  },
  {
   "cell_type": "markdown",
   "id": "1731d7a3",
   "metadata": {},
   "source": [
    "# Pembentukan Model"
   ]
  },
  {
   "cell_type": "code",
   "execution_count": 9,
   "id": "2e721855",
   "metadata": {},
   "outputs": [
    {
     "data": {
      "text/plain": [
       "LinearRegression()"
      ]
     },
     "execution_count": 9,
     "metadata": {},
     "output_type": "execute_result"
    }
   ],
   "source": [
    "#Ini mengimpor kelas LinearRegression dari modul linear_model dalam pustaka scikit-learn.\n",
    "#Kelas ini menyediakan fungsionalitas untuk membuat model regresi linear\n",
    "from sklearn.linear_model import LinearRegression\n",
    "\n",
    "model = LinearRegression()#Ini membuat objek model regresi linear dari kelas LinearRegression\n",
    "model.fit(x_train, y_train)#x_train yang berisi fitur-fitur (variabel independen) dari data pelatihan \n",
    "#dan y_train yang berisi nilai target (variabel dependen) yang sesuai.\n"
   ]
  },
  {
   "cell_type": "markdown",
   "id": "e272929e",
   "metadata": {},
   "source": [
    "# Analisis Akurasi Model"
   ]
  },
  {
   "cell_type": "code",
   "execution_count": 10,
   "id": "ff777bca",
   "metadata": {},
   "outputs": [
    {
     "name": "stdout",
     "output_type": "stream",
     "text": [
      "Akurasi Regresi: 0.8265077009807893\n"
     ]
    }
   ],
   "source": [
    "print(f'Akurasi Regresi: {model.score(x_train, y_train)}')\n",
    "#digunakan untuk mencetak atau menampilkan nilai akurasi \n",
    "#dari model regresi linear pada data pelatihan."
   ]
  },
  {
   "cell_type": "markdown",
   "id": "6569ac86",
   "metadata": {},
   "source": [
    "# Pengujian Model"
   ]
  },
  {
   "cell_type": "code",
   "execution_count": 19,
   "id": "aca11d61",
   "metadata": {},
   "outputs": [
    {
     "data": {
      "text/plain": [
       "array([458024.49527717, 383658.86804709,  80265.71585605, 731540.33941552,\n",
       "       396960.14250924, 143971.75871891, 545013.35712806, 529698.26317074,\n",
       "       147503.57168215, 151664.1337514 , 449812.56547317, 195558.58995968,\n",
       "       202072.9679662 , 493594.19715582, 423058.67569521, 178094.28489831,\n",
       "       749003.37391   , 144527.17796383, 141831.03500175, 365746.30698335,\n",
       "       522420.09294769, 416918.75190512, 639732.26087474, 495579.18567293,\n",
       "       156262.31536297, 491469.44627969, 452189.32603356, 162184.97221313,\n",
       "       655518.51008016, 429253.41537156, 615946.49342459, 374974.25286942,\n",
       "       698207.01679066, 582591.05567528, 733510.80716806, 189018.43759605,\n",
       "       163690.04946111, 727250.17952246, 582092.08590265, 768002.70529628,\n",
       "       140634.88702006, 397145.10074798, 147751.51373724, 153309.33637751,\n",
       "       669913.48852994])"
      ]
     },
     "execution_count": 19,
     "metadata": {},
     "output_type": "execute_result"
    }
   ],
   "source": [
    "#digunakan untuk membuat prediksi menggunakan model regresi linear pada data uji\n",
    "predik = model.predict(x_test)#ini akan menghasilkan nilai prediksi yang sesuai dengan variabel target (y) \n",
    "#berdasarkan model regresi linear yang telah dilatih sebelumnya.\n",
    "predik"
   ]
  },
  {
   "cell_type": "code",
   "execution_count": 20,
   "id": "57799401",
   "metadata": {},
   "outputs": [
    {
     "name": "stdout",
     "output_type": "stream",
     "text": [
      "Akurasi model: 82.65077009807894%\n"
     ]
    }
   ],
   "source": [
    "print(f'Akurasi model: {model.score(x_train, y_train)*100}%')\n",
    "#Semakin tinggi nilainya, semakin baik performa model."
   ]
  },
  {
   "cell_type": "markdown",
   "id": "add1de2f",
   "metadata": {},
   "source": [
    "# Visualisasi Model"
   ]
  },
  {
   "cell_type": "code",
   "execution_count": 21,
   "id": "f1ebd7ec",
   "metadata": {},
   "outputs": [
    {
     "data": {
      "text/plain": [
       "Text(0, 0.5, 'Data Y')"
      ]
     },
     "execution_count": 21,
     "metadata": {},
     "output_type": "execute_result"
    },
    {
     "data": {
      "image/png": "[encoded data removed]",
      "text/plain": [
       "<Figure size 640x480 with 1 Axes>"
      ]
     },
     "metadata": {},
     "output_type": "display_data"
    }
   ],
   "source": [
    "# Visualisasi Data\n",
    "import matplotlib.pyplot as plt\n",
    "\n",
    "plt.scatter(x_test, y_test, c='blue')\n",
    "# Ini membuat scatter plot dari data uji. x_test adalah sumbu x, y_test adalah sumbu y, \n",
    "#dan warna titik-titik pada plot diatur menjadi biru \n",
    "plt.plot(x_test, predik, c='red')\n",
    "#Ini membuat garis plot merah yang mewakili prediksi model regresi linear. x_test adalah sumbu x, \n",
    "#dan predik adalah prediksi model pada data uji. Warna garis diatur menjadi merah\n",
    "\n",
    "plt.xlabel('Data X')#Ini memberi label sumbu x pada plot dengan teks 'Data X'.\n",
    "plt.ylabel('Data Y')# Ini memberi label sumbu y pada plot dengan teks 'Data Y'.\n",
    "plt.show()# Ini menampilkan plot."
   ]
  },
  {
   "cell_type": "code",
   "execution_count": null,
   "id": "c4e112bb",
   "metadata": {},
   "outputs": [],
   "source": []
  }
 ],
 "metadata": {
  "kernelspec": {
   "display_name": "Python 3 (ipykernel)",
   "language": "python",
   "name": "python3"
  },
  "language_info": {
   "codemirror_mode": {
    "name": "ipython",
    "version": 3
   },
   "file_extension": ".py",
   "mimetype": "text/x-python",
   "name": "python",
   "nbconvert_exporter": "python",
   "pygments_lexer": "ipython3",
   "version": "3.9.13"
  }
 },
 "nbformat": 4,
 "nbformat_minor": 5
}
